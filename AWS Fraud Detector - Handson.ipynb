{
 "cells": [
  {
   "cell_type": "markdown",
   "metadata": {},
   "source": [
    "# Amazon Fraud Detector"
   ]
  },
  {
   "cell_type": "markdown",
   "metadata": {},
   "source": [
    "Amazon Fraud Detector is a fully managed service that helps you detect suspicious online activities such as the creation of fake accounts and online payment fraud. This service was launched during the recent AWS Summit in 2019.\n",
    "With Amazon Fraud Detector, you can create a fraud detection ML model with just a few clicks and use it to evaluate online activities in milliseconds."
   ]
  },
  {
   "cell_type": "markdown",
   "metadata": {},
   "source": [
    "Amazon Fraud Detector uses the uploaded historical data to automatically train, test, and deploy a customized fraud detection model. During this process, a series of models that have learned patterns of fraud from AWS and Amazon’s own fraud expertise are used to boost your model’s performance. To use the model, call the Amazon Fraud Detector GetPrediction API with meta data about an online event and synchronously receive a fraud prediction score and an outcome based on your configuration."
   ]
  },
  {
   "cell_type": "markdown",
   "metadata": {},
   "source": [
    "## Working with Amazon Fraud Detector"
   ]
  },
  {
   "cell_type": "markdown",
   "metadata": {},
   "source": [
    "The steps for creating a model, building a detector, and getting fraud predictions include:\n",
    "\n",
    "    1.Gather historical fraud data (training data)\n",
    "    2.Create a model version (trained model)\n",
    "    3.Review model performance and deploy the model\n",
    "    4.Create a detector that includes the deployed model version , decision rules , variables and outcomes.\n",
    "    5.Finally , Send events to Amazon Fraud Detector and get a fraud prediction"
   ]
  },
  {
   "cell_type": "markdown",
   "metadata": {},
   "source": [
    "## Getting Started"
   ]
  },
  {
   "cell_type": "code",
   "execution_count": 2,
   "metadata": {},
   "outputs": [],
   "source": [
    "# Imports\n",
    "import boto3\n",
    "import json\n",
    "import numpy as np\n",
    "import pandas as pd\n",
    "import time"
   ]
  },
  {
   "cell_type": "markdown",
   "metadata": {},
   "source": [
    "Note : At the time of writing , the default boto3 supported in tensorflow_p36 kernel is <1.10.39 and to ensure Fraud Detector works fine we may need to update the conda packages."
   ]
  },
  {
   "cell_type": "code",
   "execution_count": 4,
   "metadata": {},
   "outputs": [
    {
     "name": "stdout",
     "output_type": "stream",
     "text": [
      "Name: boto3\n",
      "Version: 1.10.39\n",
      "Summary: The AWS SDK for Python\n",
      "Home-page: https://github.com/boto/boto3\n",
      "Author: Amazon Web Services\n",
      "Author-email: UNKNOWN\n",
      "License: Apache License 2.0\n",
      "Location: /home/ec2-user/anaconda3/envs/tensorflow_p36/lib/python3.6/site-packages\n",
      "Requires: s3transfer, botocore, jmespath\n",
      "Required-by: sagemaker\n",
      "\u001b[33mYou are using pip version 10.0.1, however version 19.3.1 is available.\n",
      "You should consider upgrading via the 'pip install --upgrade pip' command.\u001b[0m\n"
     ]
    }
   ],
   "source": [
    "!pip show boto3"
   ]
  },
  {
   "cell_type": "markdown",
   "metadata": {},
   "source": [
    "As the first step , lets create a client for Fraud Detector to perform all the above mentioned operations. Since the the preview is available in US East 1 region only, ensure the region has been set to 'us-east-1'."
   ]
  },
  {
   "cell_type": "code",
   "execution_count": 5,
   "metadata": {},
   "outputs": [],
   "source": [
    "# Configure the SDK to FraudDetector:\n",
    "client = boto3.client('frauddetector', region_name='us-east-1')"
   ]
  },
  {
   "cell_type": "markdown",
   "metadata": {},
   "source": [
    "For the demo purpose , I have reused the sample data provided in the following link https://docs.aws.amazon.com/frauddetector/latest/ug/samples/training_data.zip"
   ]
  },
  {
   "cell_type": "code",
   "execution_count": 6,
   "metadata": {},
   "outputs": [],
   "source": [
    "bucket = \"aws-fraud-detector*********\"       # replace with the name of your S3 bucket\n",
    "filename = \"Synthetic_20K_requiredandoptional.csv\"\n",
    "_modelId= \"aws_frauddetector_demo\"\n",
    "_modelType= \"ONLINE_FRAUD_INSIGHTS\"\n",
    "_detectorId= \"aws_demo_detector\""
   ]
  },
  {
   "cell_type": "markdown",
   "metadata": {},
   "source": [
    "### Step 1 : Define Model Details"
   ]
  },
  {
   "cell_type": "markdown",
   "metadata": {},
   "source": [
    "The method ```put_model``` would create / update a new model. And the follwing parametes can be configured \n",
    "\n",
    "    1. Model template to Use ( Currently 'Online Fraud Insights' is the only enabled option)\n",
    "    2. Data Location & IAM Role to Access data\n",
    "    3. Model Variables in the sample data\n",
    "    4. Fraud Label Schema Mapping.\n",
    "    "
   ]
  },
  {
   "cell_type": "code",
   "execution_count": 19,
   "metadata": {},
   "outputs": [],
   "source": [
    "response = client.put_model(\n",
    "    modelId=_modelId,\n",
    "    modelType=_modelType,\n",
    "    description='aws fraud detector service demo',\n",
    "    trainingDataSource={\n",
    "        'dataLocation': 's3://'+bucket+'/'+filename,\n",
    "        'dataAccessRoleArn': 'arn:aws:iam::11111111111:role/service-role/AmazonFraudDetector-DataAccessRole-15700000003'\n",
    "    },\n",
    "    modelVariables=[\n",
    "         {\n",
    "          \"name\": \"billing_name\"\n",
    "        },\n",
    "        {\n",
    "          \"name\": \"billing_address_1\"\n",
    "        },\n",
    "        {\n",
    "          \"name\": \"billing_city\"\n",
    "        },\n",
    "        {\n",
    "          \"name\": \"shipping_address_1\"\n",
    "        },\n",
    "        {\n",
    "          \"name\": \"shipping_city\"\n",
    "        },\n",
    "        {\n",
    "          \"name\": \"shipping_state\"\n",
    "        },\n",
    "        {\n",
    "          \"name\": \"shipping_postal\"\n",
    "        },\n",
    "        {\n",
    "          \"name\": \"order_amt\"\n",
    "        },\n",
    "        {\n",
    "          \"name\": \"ip_address\"\n",
    "        },\n",
    "        {\n",
    "          \"name\": \"email_address\"\n",
    "        },\n",
    "        {\n",
    "          \"name\": \"user_agent\"\n",
    "        },\n",
    "        {\n",
    "          \"name\": \"avs_code\"\n",
    "        },\n",
    "        {\n",
    "          \"name\": \"phone_number\"\n",
    "        },\n",
    "        {\n",
    "          \"name\": \"billing_state\"\n",
    "        },\n",
    "        {\n",
    "          \"name\": \"billing_postal\"\n",
    "        },\n",
    "        {\n",
    "          \"name\": \"event_timestamp\"\n",
    "        },\n",
    "        {\n",
    "          \"name\": \"transaction_id\"\n",
    "        },\n",
    "        {\n",
    "          \"name\": \"payment_instrument\"\n",
    "        }\n",
    "    ],\n",
    "    labelSchema={\n",
    "        \"labelKey\": \"fraud_label\",\n",
    "        \"labelMapper\": {\n",
    "          \"FRAUD\": [\n",
    "            \"1\"\n",
    "          ],\n",
    "          \"LEGIT\": [\n",
    "            \"0\"\n",
    "          ]\n",
    "        }\n",
    "      }\n",
    ")"
   ]
  },
  {
   "cell_type": "markdown",
   "metadata": {},
   "source": [
    "### Step 1a : Create & Activate Model Version"
   ]
  },
  {
   "cell_type": "code",
   "execution_count": 20,
   "metadata": {},
   "outputs": [],
   "source": [
    "response = client.create_model_version(\n",
    "    modelId=_modelId,\n",
    "    modelType=_modelType,\n",
    "    description='creating a new version of the given model'\n",
    ")\n",
    "\n",
    "print(json.dumps(response, indent=2))"
   ]
  },
  {
   "cell_type": "code",
   "execution_count": 21,
   "metadata": {},
   "outputs": [
    {
     "name": "stdout",
     "output_type": "stream",
     "text": [
      "{'modelId': 'aws_frauddetector_demo', 'modelType': 'ONLINE_FRAUD_INSIGHTS', 'modelVersionNumber': '1.0', 'status': 'TRAINING_IN_PROGRESS', 'ResponseMetadata': {'RequestId': 'b184ad1d-eb0a-4a95-ae44-93d1375de00b', 'HTTPStatusCode': 200, 'HTTPHeaders': {'content-type': 'application/x-amz-json-1.1', 'date': 'Fri, 03 Jan 2020 06:35:43 GMT', 'x-amzn-requestid': 'b184ad1d-eb0a-4a95-ae44-93d1375de00b', 'content-length': '131', 'connection': 'keep-alive'}, 'RetryAttempts': 0}}\n"
     ]
    }
   ],
   "source": [
    "response = client.get_model_version(\n",
    "    modelId=_modelId,\n",
    "    modelType=_modelType,\n",
    "    modelVersionNumber='1.0'\n",
    ")\n",
    "print(json.dumps(response, indent=2))"
   ]
  },
  {
   "cell_type": "markdown",
   "metadata": {},
   "source": [
    "<img src=\"FraudDetector-2.png\" />"
   ]
  },
  {
   "cell_type": "code",
   "execution_count": 5,
   "metadata": {},
   "outputs": [
    {
     "name": "stdout",
     "output_type": "stream",
     "text": [
      "{'modelId': 'aws_frauddetector_demo', 'modelType': 'ONLINE_FRAUD_INSIGHTS', 'modelVersionNumber': '1.0', 'description': 'creating a new version', 'status': 'TRAINING_COMPLETE', 'ResponseMetadata': {'RequestId': 'd7d12360-8143-41fb-ac7a-39f19a19170d', 'HTTPStatusCode': 200, 'HTTPHeaders': {'content-type': 'application/x-amz-json-1.1', 'date': 'Mon, 06 Jan 2020 00:30:14 GMT', 'x-amzn-requestid': 'd7d12360-8143-41fb-ac7a-39f19a19170d', 'content-length': '167', 'connection': 'keep-alive'}, 'RetryAttempts': 0}}\n"
     ]
    }
   ],
   "source": [
    "response = client.get_model_version(\n",
    "    modelId=_modelId,\n",
    "    modelType=_modelType,\n",
    "    modelVersionNumber='1.0'\n",
    ")\n",
    "print(json.dumps(response, indent=2))"
   ]
  },
  {
   "cell_type": "markdown",
   "metadata": {},
   "source": [
    "Let's wait for the Training to complete. ```get_model_version``` method would give us the status of the model. Once the training is complete lets activate the model by the ```update_model_version``` method"
   ]
  },
  {
   "cell_type": "code",
   "execution_count": 6,
   "metadata": {},
   "outputs": [],
   "source": [
    "response = client.update_model_version(\n",
    "    modelId=_modelId,\n",
    "    modelType=_modelType,\n",
    "    modelVersionNumber='1.0',\n",
    "    description='Activate the model',\n",
    "    status='ACTIVE'\n",
    ")"
   ]
  },
  {
   "cell_type": "code",
   "execution_count": 7,
   "metadata": {},
   "outputs": [
    {
     "name": "stdout",
     "output_type": "stream",
     "text": [
      "{'modelId': 'aws_frauddetector_demo', 'modelType': 'ONLINE_FRAUD_INSIGHTS', 'modelVersionNumber': '1.0', 'description': 'Activate the model', 'status': 'ACTIVATE_IN_PROGRESS', 'ResponseMetadata': {'RequestId': 'ce34d271-4871-4bfd-8d44-23bb4be86303', 'HTTPStatusCode': 200, 'HTTPHeaders': {'content-type': 'application/x-amz-json-1.1', 'date': 'Mon, 06 Jan 2020 00:39:20 GMT', 'x-amzn-requestid': 'ce34d271-4871-4bfd-8d44-23bb4be86303', 'content-length': '166', 'connection': 'keep-alive'}, 'RetryAttempts': 0}}\n"
     ]
    }
   ],
   "source": [
    "response = client.get_model_version(\n",
    "    modelId=_modelId,\n",
    "    modelType=_modelType,\n",
    "    modelVersionNumber='1.0'\n",
    ")\n",
    "print(response)"
   ]
  },
  {
   "cell_type": "markdown",
   "metadata": {},
   "source": [
    "```update_model_version``` method activates the model and we can notice the change in status from ```'ACTIVATE_IN_PROGRESS'``` TO ```'ACTIVATE'```"
   ]
  },
  {
   "cell_type": "code",
   "execution_count": 9,
   "metadata": {},
   "outputs": [
    {
     "name": "stdout",
     "output_type": "stream",
     "text": [
      "{'modelId': 'aws_frauddetector_demo', 'modelType': 'ONLINE_FRAUD_INSIGHTS', 'modelVersionNumber': '1.0', 'description': 'Activate the model', 'status': 'ACTIVE', 'ResponseMetadata': {'RequestId': '19ae252a-8656-4d9f-8623-f5751096c788', 'HTTPStatusCode': 200, 'HTTPHeaders': {'content-type': 'application/x-amz-json-1.1', 'date': 'Mon, 06 Jan 2020 00:55:41 GMT', 'x-amzn-requestid': '19ae252a-8656-4d9f-8623-f5751096c788', 'content-length': '152', 'connection': 'keep-alive'}, 'RetryAttempts': 0}}\n"
     ]
    }
   ],
   "source": [
    "response = client.get_model_version(\n",
    "    modelId=_modelId,\n",
    "    modelType=_modelType,\n",
    "    modelVersionNumber='1.0'\n",
    ")\n",
    "print(response)"
   ]
  },
  {
   "cell_type": "markdown",
   "metadata": {},
   "source": [
    "### Review the Trained Model’s Performance"
   ]
  },
  {
   "cell_type": "markdown",
   "metadata": {},
   "source": [
    "Now that the model is trained and Activated , let's quickly check the performance metrics\n",
    "\n",
    "Amazon Fraud Detector validates model performance using 15% of your data that was not used to train the model. You can expect your trained Amazon Fraud Detector model to have real-world fraud detection performance that is similar to the validation performance metrics.\n",
    "\n",
    "As a business, you must balance between detecting more fraud, and adding more friction to legitimate customers. To assist in choosing the right balance, Amazon Fraud Detector provides the following model performance metrics:\n",
    "\n",
    "```True positive rate (TPR)``` – Percentage of total fraud the model detects. Also known as capture rate.\n",
    "\n",
    "```False positive rate (FPR)``` – Percentage of total legitimate events that are incorrectly predicted as fraud.\n",
    "\n",
    "```Precision``` – Percentage of fraud events correctly predicted as fraudulent as compared to all events prediected as fraudulent.\n",
    "\n",
    "```Area under the curve (AUC)``` – Summarizes TPR and FPR across all possible model score thresholds. A model with no predictive power has an AUC of 0.5, whereas a perfect model has a score of 1.0."
   ]
  },
  {
   "cell_type": "code",
   "execution_count": null,
   "metadata": {},
   "outputs": [],
   "source": [
    "response = client.describe_model_versions(\n",
    "     modelId=_modelId,\n",
    "    modelType=_modelType,\n",
    "    modelVersionNumber='1.0'\n",
    ")\n",
    "print(\"AUC : \" + response['modelVersionDetails'][0]['trainingMetrics']['auc'])"
   ]
  },
  {
   "cell_type": "code",
   "execution_count": 27,
   "metadata": {},
   "outputs": [
    {
     "name": "stdout",
     "output_type": "stream",
     "text": [
      "{\n",
      "  \"auc\": \"0.9748205697078038\",\n",
      "  \"fpr\": \"[0.0, 0.0, 0.0, 0.0, 0.0, 0.0, 0.0, 0.0, 0.0, 0.0, 0.0, 0.0, 0.0, 0.0, 0.0, 0.0, 0.0, 0.0, 0.0, 0.0, 0.0, 0.0, 0.0, 0.0, 0.0, 0.0, 0.0, 0.0, 0.0, 0.0, 0.0, 0.0, 0.0, 0.0, 0.0, 0.0, 0.0, 0.0, 0.0, 0.0, 0.0, 0.0, 3.671071953010279E-4, 3.671071953010279E-4, 3.671071953010279E-4, 3.671071953010279E-4, 3.671071953010279E-4, 3.671071953010279E-4, 3.671071953010279E-4, 7.342143906020558E-4, 0.0011013215859030838, 0.0014684287812041115, 0.0018355359765051395, 0.0025697503671071953, 0.002936857562408223, 0.002936857562408223, 0.002936857562408223, 0.002936857562408223, 0.002936857562408223, 0.003303964757709251, 0.003671071953010279, 0.003671071953010279, 0.004405286343612335, 0.005139500734214391, 0.005506607929515419, 0.006607929515418502, 0.0069750367107195305, 0.007709251101321586, 0.00881057268722467, 0.00881057268722467, 0.009544787077826725, 0.010279001468428781, 0.011013215859030838, 0.012114537444933921, 0.012481644640234948, 0.012848751835535976, 0.013582966226138032, 0.014317180616740088, 0.015051395007342145, 0.016519823788546256, 0.016519823788546256, 0.01725403817914831, 0.018355359765051395, 0.01908957415565345, 0.019823788546255508, 0.02092511013215859, 0.021659324522760644, 0.022393538913362702, 0.023127753303964757, 0.024229074889867842, 0.02459618208516887, 0.02569750367107195, 0.026798825256975037, 0.02753303964757709, 0.028634361233480177, 0.029001468428781204, 0.03010279001468429, 0.030837004405286344, 0.0315712187958884, 0.03303964757709251, 0.033773861967694566, 0.03487518355359765, 0.035609397944199705, 0.035976505139500736, 0.037077826725403815, 0.0381791483113069, 0.038913362701908955, 0.04001468428781204, 0.040748898678414094, 0.04185022026431718, 0.04368575624082232, 0.04368575624082232, 0.044419970631424374, 0.04515418502202643, 0.046255506607929514, 0.04698972099853157, 0.04882525697503671, 0.04919236417033774, 0.049926578560939794, 0.05102790014684288, 0.052129221732745964, 0.05286343612334802, 0.05433186490455213, 0.055800293685756244, 0.055800293685756244, 0.05690161527165932, 0.05837004405286344, 0.05947136563876652, 0.06167400881057269, 0.0631424375917768, 0.0631424375917768, 0.06497797356828194, 0.06607929515418502, 0.06681350954478708, 0.06754772393538913, 0.06864904552129222, 0.07011747430249633, 0.07085168869309838, 0.0723201174743025, 0.0723201174743025, 0.07305433186490455, 0.07488986784140969, 0.07488986784140969, 0.07599118942731277, 0.07819383259911894, 0.078928046989721, 0.08039647577092511, 0.08186490455212922, 0.08186490455212922, 0.08296622613803231, 0.08480176211453745, 0.08627019089574156, 0.08627019089574156, 0.08773861967694567, 0.08773861967694567, 0.08920704845814978, 0.09030837004405286, 0.09361233480176212, 0.09581497797356828, 0.09581497797356828, 0.09765051395007342, 0.09765051395007342, 0.09985315712187959, 0.09985315712187959, 0.10095447870778267, 0.1038913362701909, 0.10646108663729809, 0.10646108663729809, 0.10756240822320118, 0.10939794419970632, 0.11013215859030837, 0.11013215859030837, 0.11160058737151249, 0.11343612334801761, 0.11343612334801761, 0.11563876651982379, 0.11563876651982379, 0.11747430249632893, 0.12261380323054331, 0.12408223201174744, 0.12665198237885464, 0.12665198237885464, 0.1288546255506608, 0.1288546255506608, 0.13032305433186492, 0.13325991189427314, 0.13325991189427314, 0.1395007342143906, 0.14317180616740088, 0.14317180616740088, 0.14647577092511013, 0.14647577092511013, 0.14757709251101322, 0.14977973568281938, 0.14977973568281938, 0.15418502202643172, 0.15418502202643172, 0.15712187958883994, 0.16262848751835535, 0.16262848751835535, 0.16740088105726872, 0.1721732745961821, 0.1721732745961821, 0.17804698972099853, 0.184287812041116, 0.19089574155653452, 0.1945668135095448, 0.2026431718061674, 0.2088839941262849, 0.2088839941262849, 0.21806167400881057, 0.21806167400881057, 0.22687224669603523, 0.22687224669603523, 0.23641703377386197, 0.23641703377386197, 0.24706314243759178, 0.2591776798825257, 0.27055800293685756, 0.27055800293685756, 0.28267254038179146, 0.29625550660792954, 0.31167400881057267, 0.31167400881057267, 0.33516886930983847, 0.35866372980910427, 0.3828928046989721, 0.4133627019089574, 0.4133627019089574, 0.4500734214390602, 0.4831130690161527, 0.4831130690161527, 0.5275330396475771, 0.5976505139500734, 0.67143906020558, 0.7779001468428781, 0.947503671071953, 1.0]\",\n",
      "  \"precision\": \"[1.0, 1.0, 1.0, 1.0, 1.0, 1.0, 1.0, 1.0, 1.0, 1.0, 1.0, 1.0, 1.0, 1.0, 1.0, 1.0, 1.0, 1.0, 1.0, 1.0, 1.0, 1.0, 1.0, 1.0, 1.0, 1.0, 1.0, 1.0, 1.0, 1.0, 1.0, 1.0, 1.0, 1.0, 1.0, 1.0, 1.0, 1.0, 1.0, 1.0, 1.0, 1.0, 0.9934640522875817, 0.9935897435897436, 0.9937106918238994, 0.9938271604938271, 0.9939393939393939, 0.9940476190476191, 0.9941520467836257, 0.9885057471264368, 0.9831460674157303, 0.9777777777777777, 0.9726775956284153, 0.9623655913978495, 0.9576719576719577, 0.9583333333333334, 0.958974358974359, 0.9595959595959596, 0.9601990049751243, 0.9558823529411765, 0.9516908212560387, 0.9523809523809523, 0.9436619718309859, 0.9354838709677419, 0.9315068493150684, 0.9192825112107623, 0.9155555555555556, 0.9078947368421053, 0.8961038961038961, 0.8974358974358975, 0.890295358649789, 0.8833333333333333, 0.8765432098765432, 0.8658536585365854, 0.8634538152610441, 0.8611111111111112, 0.8549019607843137, 0.8488372093023255, 0.842911877394636, 0.8301886792452831, 0.8314606741573034, 0.825925925925926, 0.8168498168498168, 0.8115942028985508, 0.8064516129032258, 0.7978723404255319, 0.7929824561403509, 0.7881944444444444, 0.7842465753424658, 0.777027027027027, 0.7744107744107744, 0.7666666666666667, 0.7598684210526315, 0.7549019607843137, 0.7491961414790996, 0.7476038338658147, 0.740506329113924, 0.7358490566037735, 0.7329192546583851, 0.7239263803680982, 0.7195121951219512, 0.7129909365558912, 0.7095808383233533, 0.7083333333333334, 0.7020648967551623, 0.6967930029154519, 0.6927536231884058, 0.6876790830945558, 0.6837606837606838, 0.6788732394366197, 0.6694444444444444, 0.6694444444444444, 0.6666666666666666, 0.6639344262295082, 0.6585365853658537, 0.6559139784946236, 0.6472148541114059, 0.6455026455026455, 0.6430446194225722, 0.6380208333333334, 0.6330749354005168, 0.6307692307692307, 0.6253164556962025, 0.6190476190476191, 0.6190476190476191, 0.6144278606965174, 0.6093366093366094, 0.6048780487804878, 0.5961538461538461, 0.5904761904761905, 0.5904761904761905, 0.5835294117647059, 0.5794392523364486, 0.5767441860465117, 0.5750577367205543, 0.5711009174311926, 0.5659090909090909, 0.5643340857787811, 0.5592841163310962, 0.5592841163310962, 0.5577777777777778, 0.5526315789473685, 0.5526315789473685, 0.55, 0.5438972162740899, 0.5415778251599147, 0.5369978858350951, 0.5324947589098532, 0.5324947589098532, 0.5291666666666667, 0.5237113402061856, 0.5194274028629857, 0.5194274028629857, 0.5171717171717172, 0.5171717171717172, 0.514, 0.510934393638171, 0.501953125, 0.49710982658959535, 0.49710982658959535, 0.49333333333333335, 0.49333333333333335, 0.487758945386064, 0.487758945386064, 0.4850187265917603, 0.477859778597786, 0.47176684881602915, 0.47176684881602915, 0.4692028985507246, 0.4649910233393178, 0.46524064171123, 0.46524064171123, 0.46194690265486726, 0.45789473684210524, 0.45789473684210524, 0.453125, 0.453125, 0.44922547332185886, 0.43865546218487395, 0.4357262103505843, 0.4306930693069307, 0.4306930693069307, 0.4264705882352941, 0.4264705882352941, 0.4237012987012987, 0.4182692307692308, 0.4182692307692308, 0.40717628705148207, 0.4009216589861751, 0.4009216589861751, 0.39545454545454545, 0.39545454545454545, 0.3936651583710407, 0.3901345291479821, 0.3901345291479821, 0.3832599118942731, 0.3832599118942731, 0.3788098693759071, 0.37163120567375885, 0.37163120567375885, 0.3649025069637883, 0.3592896174863388, 0.3592896174863388, 0.3516042780748663, 0.34464751958224543, 0.336734693877551, 0.33249370277078083, 0.3243574051407589, 0.31774580335731417, 0.31774580335731417, 0.31010452961672474, 0.31010452961672474, 0.3016949152542373, 0.3016949152542373, 0.29385964912280704, 0.29385964912280704, 0.28480340063761955, 0.2751540041067762, 0.26666666666666666, 0.26666666666666666, 0.25890279114533205, 0.25, 0.24128686327077747, 0.24128686327077747, 0.22888513513513514, 0.2177742193755004, 0.20684410646387832, 0.19456366237482117, 0.19456366237482117, 0.1821214142761841, 0.17232704402515722, 0.17232704402515722, 0.16063084112149534, 0.14450867052023122, 0.1311163895486936, 0.11524008350730688, 0.09660483024151208, 0.0]\",\n",
      "  \"thresholds\": \"[1000.0, 999.0039999999999, 999.0, 998.0070000000001, 998.0, 997.0, 995.0129999999999, 995.0, 994.0, 992.0169999999998, 992.0, 991.0, 989.0209999999997, 988.0219999999999, 987.0, 986.0, 985.0, 983.0, 981.0, 980.0, 977.029, 975.0299999999997, 974.0, 972.0639999999994, 972.0, 970.0340000000001, 967.0699999999997, 966.0360000000001, 960.184999999999, 956.038, 947.1169999999993, 941.1199999999999, 939.0, 936.0840000000007, 934.0430000000001, 931.0440000000003, 920.0900000000001, 917.0460000000003, 915.047, 903.1440000000007, 899.0, 886.2000000000007, 879.0510000000004, 865.3120000000008, 860.159000000001, 851.1620000000003, 835.1100000000006, 823.1680000000001, 781.7410000000032, 758.4639999999999, 742.0, 727.4200000000028, 700.6710000000016, 695.1240000000007, 690.0630000000001, 686.0640000000003, 661.3250000000003, 650.0660000000003, 630.335, 601.0880000000034, 574.2069999999999, 552.6300000000015, 537.2840000000015, 525.0, 504.21900000000096, 497.0, 470.0500000000038, 454.076, 435.15400000000045, 417.2339999999999, 408.0790000000002, 386.8799999999992, 368.64800000000105, 351.32800000000134, 338.5810000000006, 314.0840000000003, 305.2550000000001, 294.1720000000005, 282.26099999999997, 275.0, 257.8009999999995, 247.1800000000003, 238.36399999999958, 234.1840000000002, 228.0930000000003, 225.1880000000001, 220.28500000000076, 208.192, 203.0, 200.0, 194.09900000000016, 186.29999999999973, 177.0, 173.10199999999986, 169.0, 167.0, 166.0, 164.10600000000022, 163.0, 159.0, 157.0, 152.0, 148.0, 143.44800000000032, 138.11299999999983, 137.0, 135.11500000000024, 133.0, 126.35100000000057, 125.0, 121.0, 119.23999999999978, 115.36300000000028, 114.12199999999984, 109.2460000000001, 106.37199999999939, 106.0, 104.1260000000002, 103.12699999999995, 100.25600000000031, 97.25799999999981, 94.13000000000011, 92.0, 91.0, 90.13299999999981, 88.26800000000003, 88.0, 87.0, 86.0, 85.0, 84.13999999999987, 84.0, 83.0, 82.0, 81.0, 80.0, 79.0, 78.0, 76.0, 75.14899999999989, 73.15000000000009, 71.0, 69.30400000000009, 69.0, 68.0, 67.0, 66.0, 65.0, 64.1590000000001, 62.159999999999854, 62.0, 61.0, 60.16300000000001, 60.0, 59.164999999999964, 59.0, 58.0, 57.0, 56.0, 55.17300000000023, 55.0, 54.17500000000018, 54.0, 53.177000000000135, 51.35600000000068, 51.0, 50.0, 49.18299999999999, 48.1840000000002, 48.0, 47.0, 46.18700000000035, 46.0, 45.0, 44.190000000000055, 44.0, 43.19200000000001, 43.0, 42.0, 41.0, 40.0, 39.202000000000226, 39.0, 38.20400000000018, 38.0, 37.0, 36.208000000000084, 36.0, 35.0, 34.2170000000001, 34.0, 33.220000000000255, 32.221000000000004, 32.0, 31.222999999999956, 31.0, 30.22699999999986, 30.0, 29.0, 28.235000000000127, 28.0, 27.0, 26.244000000000142, 26.0, 25.0, 24.0, 23.0, 22.0, 21.0, 20.277999999999793, 20.0, 19.286999999999807, 19.0, 18.295000000000073, 18.0, 17.304000000000087, 17.0, 16.0, 15.0, 14.335000000000036, 14.0, 13.0, 12.0, 11.373000000000047, 11.0, 10.0, 9.0, 8.0, 7.466000000000122, 7.0, 6.0, 5.5300000000002, 5.0, 4.0, 3.0, 2.0, 1.0, 0.0]\",\n",
      "  \"tpr\": \"[0.0, 0.043478260869565216, 0.07608695652173914, 0.07608695652173914, 0.11594202898550725, 0.13405797101449277, 0.14130434782608695, 0.15942028985507245, 0.18115942028985507, 0.18478260869565216, 0.2028985507246377, 0.2210144927536232, 0.22826086956521738, 0.2391304347826087, 0.2572463768115942, 0.26811594202898553, 0.2753623188405797, 0.2898550724637681, 0.2971014492753623, 0.3079710144927536, 0.31521739130434784, 0.32608695652173914, 0.34782608695652173, 0.34782608695652173, 0.36231884057971014, 0.3695652173913043, 0.3804347826086957, 0.391304347826087, 0.40217391304347827, 0.41304347826086957, 0.42391304347826086, 0.43478260869565216, 0.4528985507246377, 0.45652173913043476, 0.4673913043478261, 0.4782608695652174, 0.4891304347826087, 0.5, 0.5108695652173914, 0.5217391304347826, 0.5398550724637681, 0.5434782608695652, 0.5507246376811594, 0.5615942028985508, 0.572463768115942, 0.5833333333333334, 0.5942028985507246, 0.605072463768116, 0.6159420289855072, 0.6231884057971014, 0.6340579710144928, 0.6376811594202898, 0.644927536231884, 0.6485507246376812, 0.6557971014492754, 0.6666666666666666, 0.677536231884058, 0.6884057971014492, 0.6992753623188406, 0.7065217391304348, 0.7137681159420289, 0.7246376811594203, 0.7282608695652174, 0.7355072463768116, 0.7391304347826086, 0.7427536231884058, 0.7463768115942029, 0.75, 0.75, 0.7608695652173914, 0.7644927536231884, 0.7681159420289855, 0.7717391304347826, 0.7717391304347826, 0.7789855072463768, 0.7862318840579711, 0.7898550724637681, 0.7934782608695652, 0.7971014492753623, 0.7971014492753623, 0.8043478260869565, 0.8079710144927537, 0.8079710144927537, 0.8115942028985508, 0.8152173913043478, 0.8152173913043478, 0.8188405797101449, 0.822463768115942, 0.8297101449275363, 0.8333333333333334, 0.8333333333333334, 0.8333333333333334, 0.8369565217391305, 0.8369565217391305, 0.8442028985507246, 0.8478260869565217, 0.8478260869565217, 0.8478260869565217, 0.855072463768116, 0.855072463768116, 0.855072463768116, 0.855072463768116, 0.8586956521739131, 0.8623188405797102, 0.8623188405797102, 0.8659420289855072, 0.8659420289855072, 0.8695652173913043, 0.8695652173913043, 0.8731884057971014, 0.8731884057971014, 0.8731884057971014, 0.8768115942028986, 0.8804347826086957, 0.8804347826086957, 0.8840579710144928, 0.8840579710144928, 0.8840579710144928, 0.8876811594202898, 0.8876811594202898, 0.8876811594202898, 0.8913043478260869, 0.894927536231884, 0.894927536231884, 0.894927536231884, 0.894927536231884, 0.8985507246376812, 0.8985507246376812, 0.8985507246376812, 0.8985507246376812, 0.8985507246376812, 0.8985507246376812, 0.8985507246376812, 0.8985507246376812, 0.9021739130434783, 0.9021739130434783, 0.9021739130434783, 0.9057971014492754, 0.9057971014492754, 0.9057971014492754, 0.9094202898550725, 0.9130434782608695, 0.9130434782608695, 0.9166666666666666, 0.9202898550724637, 0.9202898550724637, 0.9202898550724637, 0.9202898550724637, 0.9202898550724637, 0.9202898550724637, 0.9202898550724637, 0.9202898550724637, 0.9202898550724637, 0.927536231884058, 0.927536231884058, 0.9311594202898551, 0.9311594202898551, 0.9311594202898551, 0.9347826086956522, 0.9347826086956522, 0.9384057971014492, 0.9384057971014492, 0.9384057971014492, 0.9384057971014492, 0.9384057971014492, 0.9384057971014492, 0.9384057971014492, 0.9384057971014492, 0.9384057971014492, 0.9384057971014492, 0.9456521739130435, 0.9456521739130435, 0.9456521739130435, 0.9456521739130435, 0.9456521739130435, 0.9456521739130435, 0.9456521739130435, 0.9456521739130435, 0.9456521739130435, 0.9456521739130435, 0.9456521739130435, 0.9456521739130435, 0.9456521739130435, 0.9456521739130435, 0.9456521739130435, 0.9456521739130435, 0.9456521739130435, 0.9456521739130435, 0.9456521739130435, 0.9456521739130435, 0.9456521739130435, 0.9456521739130435, 0.9456521739130435, 0.9456521739130435, 0.9456521739130435, 0.9456521739130435, 0.9456521739130435, 0.9456521739130435, 0.9492753623188406, 0.9492753623188406, 0.9492753623188406, 0.9528985507246377, 0.9528985507246377, 0.9528985507246377, 0.9565217391304348, 0.9565217391304348, 0.9565217391304348, 0.9601449275362319, 0.9601449275362319, 0.9601449275362319, 0.967391304347826, 0.967391304347826, 0.967391304347826, 0.967391304347826, 0.9710144927536232, 0.9710144927536232, 0.9710144927536232, 0.9710144927536232, 0.9710144927536232, 0.9710144927536232, 0.9746376811594203, 0.9746376811594203, 0.9782608695652174, 0.9782608695652174, 0.9818840579710145, 0.9855072463768116, 0.9855072463768116, 0.9855072463768116, 0.9855072463768116, 0.9891304347826086, 0.9927536231884058, 0.9927536231884058, 0.9963768115942029, 0.9963768115942029, 1.0, 1.0, 1.0, 1.0]\"\n",
      "}\n"
     ]
    }
   ],
   "source": [
    "print(json.dumps(response['modelVersionDetails'][0]['trainingMetrics'], indent=2))"
   ]
  },
  {
   "cell_type": "markdown",
   "metadata": {},
   "source": [
    "<img src=\"FraudDetector-3.png\" />"
   ]
  },
  {
   "cell_type": "markdown",
   "metadata": {},
   "source": [
    "### Step 2 : Create a Detector"
   ]
  },
  {
   "cell_type": "markdown",
   "metadata": {},
   "source": [
    "We use a detector to house your fraud prediction configurations."
   ]
  },
  {
   "cell_type": "code",
   "execution_count": 31,
   "metadata": {},
   "outputs": [
    {
     "name": "stdout",
     "output_type": "stream",
     "text": [
      "{'ResponseMetadata': {'RequestId': '14b2e9c1-b7dd-4794-8fa8-e9b84f2fd841', 'HTTPStatusCode': 200, 'HTTPHeaders': {'content-type': 'application/x-amz-json-1.1', 'date': 'Mon, 06 Jan 2020 02:04:57 GMT', 'x-amzn-requestid': '14b2e9c1-b7dd-4794-8fa8-e9b84f2fd841', 'content-length': '2', 'connection': 'keep-alive'}, 'RetryAttempts': 0}}\n"
     ]
    }
   ],
   "source": [
    "response = client.put_detector(\n",
    "    detectorId=_detectorId,\n",
    "    description='AWS fraud detector - Creating new detector'\n",
    ")\n",
    "print(response)"
   ]
  },
  {
   "cell_type": "markdown",
   "metadata": {},
   "source": [
    "Let us also create the outcomes and rules that we wanted to tag with this detector. The following three outcomes and rules have been created as an example"
   ]
  },
  {
   "cell_type": "code",
   "execution_count": 41,
   "metadata": {},
   "outputs": [
    {
     "data": {
      "text/plain": [
       "{'ResponseMetadata': {'RequestId': '91e649b5-22d3-48d7-90c2-8b63c0bd2176',\n",
       "  'HTTPStatusCode': 200,\n",
       "  'HTTPHeaders': {'content-type': 'application/x-amz-json-1.1',\n",
       "   'date': 'Mon, 06 Jan 2020 02:23:54 GMT',\n",
       "   'x-amzn-requestid': '91e649b5-22d3-48d7-90c2-8b63c0bd2176',\n",
       "   'content-length': '2',\n",
       "   'connection': 'keep-alive'},\n",
       "  'RetryAttempts': 0}}"
      ]
     },
     "execution_count": 41,
     "metadata": {},
     "output_type": "execute_result"
    }
   ],
   "source": [
    "client.put_outcome( name='verify_fraudulent_customer',description='Need a verification for this transaction.')\n",
    "client.put_outcome( name='approve_customer',description='Low risk customer , approve the transaction')\n",
    "client.put_outcome( name='review_customer',description='review this transaction')"
   ]
  },
  {
   "cell_type": "code",
   "execution_count": 58,
   "metadata": {},
   "outputs": [],
   "source": [
    "response = client.create_variable(\n",
    "    name='aws_frauddetector_demo_insightscore',\n",
    "    dataType='FLOAT',\n",
    "    dataSource='MODEL_SCORE',\n",
    "    defaultValue='0.0',\n",
    "    description='insight_score_variable',\n",
    ")"
   ]
  },
  {
   "cell_type": "code",
   "execution_count": 59,
   "metadata": {},
   "outputs": [
    {
     "data": {
      "text/plain": [
       "{'rule': {'detectorId': 'aws_demo_detector',\n",
       "  'ruleId': 'low_risk',\n",
       "  'ruleVersion': '1.0'},\n",
       " 'ResponseMetadata': {'RequestId': '12aeb047-713e-4869-81ef-8f556a77a6d1',\n",
       "  'HTTPStatusCode': 200,\n",
       "  'HTTPHeaders': {'content-type': 'application/x-amz-json-1.1',\n",
       "   'date': 'Mon, 06 Jan 2020 05:12:03 GMT',\n",
       "   'x-amzn-requestid': '12aeb047-713e-4869-81ef-8f556a77a6d1',\n",
       "   'content-length': '83',\n",
       "   'connection': 'keep-alive'},\n",
       "  'RetryAttempts': 0}}"
      ]
     },
     "execution_count": 59,
     "metadata": {},
     "output_type": "execute_result"
    }
   ],
   "source": [
    "client.create_rule(\n",
    "      ruleId=\"high_risk\",\n",
    "      description=\"This rule captures events with a high ML model score\",\n",
    "      detectorId= _detectorId,\n",
    "      expression=\"$aws_frauddetector_demo_insightscore > 800\",\n",
    "      language= \"DETECTORPL\",\n",
    "      outcomes= [\"verify_fraudulent_customer\"]\n",
    ")\n",
    "client.create_rule(\n",
    "      ruleId=\"medium_risk\",\n",
    "      description=\"This rule captures events with a Medium ML model score\",\n",
    "      detectorId= _detectorId,\n",
    "      expression=\"$aws_frauddetector_demo_insightscore <= 800 and $aws_frauddetector_demo_insightscore > 200\",\n",
    "      language= \"DETECTORPL\",\n",
    "      outcomes= [\"review_customer\"]\n",
    ")\n",
    "client.create_rule(\n",
    "      ruleId=\"low_risk\",\n",
    "      description=\"This rule captures events with a Low ML model score\",\n",
    "      detectorId= _detectorId,\n",
    "      expression=\"$aws_frauddetector_demo_insightscore <= 200\",\n",
    "      language= \"DETECTORPL\",\n",
    "      outcomes= [\"approve_customer\"]\n",
    ")"
   ]
  },
  {
   "cell_type": "markdown",
   "metadata": {},
   "source": [
    "Now , its time to create the new detector version and tag the rules. And once we create the new detector we will also activate it using ```update_detector_version_status``` method."
   ]
  },
  {
   "cell_type": "code",
   "execution_count": 62,
   "metadata": {},
   "outputs": [
    {
     "name": "stdout",
     "output_type": "stream",
     "text": [
      "{\n",
      "  \"detectorId\": \"aws_demo_detector\",\n",
      "  \"detectorVersionId\": \"1.0\",\n",
      "  \"status\": \"DRAFT\",\n",
      "  \"ResponseMetadata\": {\n",
      "    \"RequestId\": \"4cbd6834-e932-4b63-b4db-33c26b1f5a01\",\n",
      "    \"HTTPStatusCode\": 200,\n",
      "    \"HTTPHeaders\": {\n",
      "      \"content-type\": \"application/x-amz-json-1.1\",\n",
      "      \"date\": \"Mon, 06 Jan 2020 05:18:01 GMT\",\n",
      "      \"x-amzn-requestid\": \"4cbd6834-e932-4b63-b4db-33c26b1f5a01\",\n",
      "      \"content-length\": \"77\",\n",
      "      \"connection\": \"keep-alive\"\n",
      "    },\n",
      "    \"RetryAttempts\": 0\n",
      "  }\n",
      "}\n"
     ]
    }
   ],
   "source": [
    "response = client.create_detector_version(\n",
    "    detectorId = _detectorId,\n",
    "    description = 'Creating new detector version for' + _detectorId ,\n",
    "    rules=[\n",
    "        {\n",
    "      \"detectorId\": _detectorId,\n",
    "      \"ruleId\": \"high_risk\",\n",
    "      \"ruleVersion\": \"1.0\"\n",
    "    },\n",
    "    {\n",
    "      \"detectorId\": _detectorId,\n",
    "      \"ruleId\": \"medium_risk\",\n",
    "      \"ruleVersion\": \"1.0\"\n",
    "    },\n",
    "    {\n",
    "      \"detectorId\": _detectorId,\n",
    "      \"ruleId\": \"low_risk\",\n",
    "      \"ruleVersion\": \"1.0\"\n",
    "    }\n",
    "    ],\n",
    "    modelVersions = [\n",
    "        {\n",
    "        'modelId' : _modelId,\n",
    "        'modelType' : _modelType,\n",
    "        'modelVersionNumber' : '1.0'\n",
    "        },\n",
    "    ]\n",
    ")\n",
    "\n",
    "print(json.dumps(response, indent=2))"
   ]
  },
  {
   "cell_type": "code",
   "execution_count": 63,
   "metadata": {},
   "outputs": [
    {
     "name": "stdout",
     "output_type": "stream",
     "text": [
      "{\n",
      "  \"ResponseMetadata\": {\n",
      "    \"RequestId\": \"17507ec7-86c7-4839-a6aa-c7839c746dec\",\n",
      "    \"HTTPStatusCode\": 200,\n",
      "    \"HTTPHeaders\": {\n",
      "      \"content-type\": \"application/x-amz-json-1.1\",\n",
      "      \"date\": \"Mon, 06 Jan 2020 05:19:49 GMT\",\n",
      "      \"x-amzn-requestid\": \"17507ec7-86c7-4839-a6aa-c7839c746dec\",\n",
      "      \"content-length\": \"2\",\n",
      "      \"connection\": \"keep-alive\"\n",
      "    },\n",
      "    \"RetryAttempts\": 0\n",
      "  }\n",
      "}\n"
     ]
    }
   ],
   "source": [
    "response = client.update_detector_version_status(\n",
    "    detectorId=_detectorId,\n",
    "    detectorVersionId='1.0',\n",
    "    status='ACTIVE'\n",
    ")\n",
    "print(json.dumps(response, indent=2))"
   ]
  },
  {
   "cell_type": "markdown",
   "metadata": {},
   "source": [
    "Finally , we have the model and the detector active ! Time to predict... Let us quickly check few records from the training data."
   ]
  },
  {
   "cell_type": "code",
   "execution_count": 66,
   "metadata": {},
   "outputs": [],
   "source": [
    "import s3fs\n",
    "data_location = 's3://{}/{}'.format(bucket, filename)\n",
    "df=pd.read_csv(data_location)"
   ]
  },
  {
   "cell_type": "code",
   "execution_count": 67,
   "metadata": {},
   "outputs": [
    {
     "data": {
      "text/html": [
       "<div>\n",
       "<style scoped>\n",
       "    .dataframe tbody tr th:only-of-type {\n",
       "        vertical-align: middle;\n",
       "    }\n",
       "\n",
       "    .dataframe tbody tr th {\n",
       "        vertical-align: top;\n",
       "    }\n",
       "\n",
       "    .dataframe thead th {\n",
       "        text-align: right;\n",
       "    }\n",
       "</style>\n",
       "<table border=\"1\" class=\"dataframe\">\n",
       "  <thead>\n",
       "    <tr style=\"text-align: right;\">\n",
       "      <th></th>\n",
       "      <th>order_amt</th>\n",
       "      <th>ip_address</th>\n",
       "      <th>email_address</th>\n",
       "      <th>user_agent</th>\n",
       "      <th>avs_code</th>\n",
       "      <th>phone_number</th>\n",
       "      <th>billing_state</th>\n",
       "      <th>billing_postal</th>\n",
       "      <th>event_timestamp</th>\n",
       "      <th>transaction_id</th>\n",
       "      <th>payment_instrument</th>\n",
       "      <th>billing_name</th>\n",
       "      <th>billing_address_1</th>\n",
       "      <th>billing_city</th>\n",
       "      <th>shipping_address_1</th>\n",
       "      <th>shipping_city</th>\n",
       "      <th>shipping_state</th>\n",
       "      <th>shipping_postal</th>\n",
       "      <th>fraud_label</th>\n",
       "    </tr>\n",
       "  </thead>\n",
       "  <tbody>\n",
       "    <tr>\n",
       "      <th>0</th>\n",
       "      <td>585.41</td>\n",
       "      <td>192.3.33.20</td>\n",
       "      <td>fake_ashley52@example.com</td>\n",
       "      <td>Mozilla/5.0 (iPod; U; CPU iPhone OS 4_2 like M...</td>\n",
       "      <td>K</td>\n",
       "      <td>(555)298 - 4107</td>\n",
       "      <td>NH</td>\n",
       "      <td>85944.0</td>\n",
       "      <td>12/20/2018 20:03</td>\n",
       "      <td>712-36182</td>\n",
       "      <td>American Express</td>\n",
       "      <td>Fake Robert Frank</td>\n",
       "      <td>0722 Taylor Junctions Fake St.</td>\n",
       "      <td>West Darin</td>\n",
       "      <td>606 Melissa Dam Fake St.</td>\n",
       "      <td>East Amber</td>\n",
       "      <td>MA</td>\n",
       "      <td>44986.0</td>\n",
       "      <td>1</td>\n",
       "    </tr>\n",
       "    <tr>\n",
       "      <th>1</th>\n",
       "      <td>396.81</td>\n",
       "      <td>198.51.62.181</td>\n",
       "      <td>fake_lisafoley@example.org</td>\n",
       "      <td>Mozilla/5.0 (Windows; U; Windows NT 6.2) Apple...</td>\n",
       "      <td>O</td>\n",
       "      <td>(555)919 - 8510</td>\n",
       "      <td>KY</td>\n",
       "      <td>91323.0</td>\n",
       "      <td>3/14/2019 10:55</td>\n",
       "      <td>470-21851</td>\n",
       "      <td>VISA 19 digit</td>\n",
       "      <td>Fake Stephen Cook</td>\n",
       "      <td>37873 Mullins Cape Fake St.</td>\n",
       "      <td>Tylerview</td>\n",
       "      <td>39084 Patterson Trail Fake St.</td>\n",
       "      <td>Joneschester</td>\n",
       "      <td>MT</td>\n",
       "      <td>99883.0</td>\n",
       "      <td>0</td>\n",
       "    </tr>\n",
       "    <tr>\n",
       "      <th>2</th>\n",
       "      <td>734.92</td>\n",
       "      <td>164.178.245.107</td>\n",
       "      <td>fake_jeromecarney@example.org</td>\n",
       "      <td>Mozilla/5.0 (Macintosh; PPC Mac OS X 10_9_3 rv...</td>\n",
       "      <td>I</td>\n",
       "      <td>(555)211 - 1871</td>\n",
       "      <td>GA</td>\n",
       "      <td>54426.0</td>\n",
       "      <td>1/3/2019 8:37</td>\n",
       "      <td>226-28413</td>\n",
       "      <td>VISA 16 digit</td>\n",
       "      <td>Fake Stephanie Miranda</td>\n",
       "      <td>67188 Lauren Meadow Fake St.</td>\n",
       "      <td>Port Virginiachester</td>\n",
       "      <td>414 Maureen Pike Fake St.</td>\n",
       "      <td>New Nicoletown</td>\n",
       "      <td>OK</td>\n",
       "      <td>12973.0</td>\n",
       "      <td>0</td>\n",
       "    </tr>\n",
       "    <tr>\n",
       "      <th>3</th>\n",
       "      <td>407.06</td>\n",
       "      <td>192.52.192.254</td>\n",
       "      <td>fake_steven90@example.org</td>\n",
       "      <td>Mozilla/5.0 (iPad; CPU iPad OS 10_3_3 like Mac...</td>\n",
       "      <td>J</td>\n",
       "      <td>(555)106 - 5263</td>\n",
       "      <td>NV</td>\n",
       "      <td>93299.0</td>\n",
       "      <td>9/25/2019 3:10</td>\n",
       "      <td>794-9614</td>\n",
       "      <td>VISA 13 digit</td>\n",
       "      <td>Fake Joseph Dickson</td>\n",
       "      <td>598 Paul Mews Fake St.</td>\n",
       "      <td>Thompsonberg</td>\n",
       "      <td>259 Mary Inlet Fake St.</td>\n",
       "      <td>West Michaelmouth</td>\n",
       "      <td>PA</td>\n",
       "      <td>42842.0</td>\n",
       "      <td>0</td>\n",
       "    </tr>\n",
       "    <tr>\n",
       "      <th>4</th>\n",
       "      <td>746.83</td>\n",
       "      <td>203.6.74.251</td>\n",
       "      <td>fake_nhernandez@example.org</td>\n",
       "      <td>Mozilla/5.0 (iPad; CPU iPad OS 9_3_6 like Mac ...</td>\n",
       "      <td>J</td>\n",
       "      <td>(555)702 - 7035</td>\n",
       "      <td>SC</td>\n",
       "      <td>24035.0</td>\n",
       "      <td>5/7/2019 15:45</td>\n",
       "      <td>588-3889</td>\n",
       "      <td>JCB 16 digit</td>\n",
       "      <td>Fake Eric Jenkins</td>\n",
       "      <td>9445 Mcdonald Wells Fake St.</td>\n",
       "      <td>East Samuelmouth</td>\n",
       "      <td>4343 Kristina Court Fake St.</td>\n",
       "      <td>South Maryfort</td>\n",
       "      <td>OK</td>\n",
       "      <td>12751.0</td>\n",
       "      <td>0</td>\n",
       "    </tr>\n",
       "  </tbody>\n",
       "</table>\n",
       "</div>"
      ],
      "text/plain": [
       "   order_amt       ip_address                  email_address  \\\n",
       "0     585.41      192.3.33.20      fake_ashley52@example.com   \n",
       "1     396.81    198.51.62.181     fake_lisafoley@example.org   \n",
       "2     734.92  164.178.245.107  fake_jeromecarney@example.org   \n",
       "3     407.06   192.52.192.254      fake_steven90@example.org   \n",
       "4     746.83     203.6.74.251    fake_nhernandez@example.org   \n",
       "\n",
       "                                          user_agent avs_code  \\\n",
       "0  Mozilla/5.0 (iPod; U; CPU iPhone OS 4_2 like M...        K   \n",
       "1  Mozilla/5.0 (Windows; U; Windows NT 6.2) Apple...        O   \n",
       "2  Mozilla/5.0 (Macintosh; PPC Mac OS X 10_9_3 rv...        I   \n",
       "3  Mozilla/5.0 (iPad; CPU iPad OS 10_3_3 like Mac...        J   \n",
       "4  Mozilla/5.0 (iPad; CPU iPad OS 9_3_6 like Mac ...        J   \n",
       "\n",
       "      phone_number billing_state  billing_postal   event_timestamp  \\\n",
       "0  (555)298 - 4107            NH         85944.0  12/20/2018 20:03   \n",
       "1  (555)919 - 8510            KY         91323.0   3/14/2019 10:55   \n",
       "2  (555)211 - 1871            GA         54426.0     1/3/2019 8:37   \n",
       "3  (555)106 - 5263            NV         93299.0    9/25/2019 3:10   \n",
       "4  (555)702 - 7035            SC         24035.0    5/7/2019 15:45   \n",
       "\n",
       "  transaction_id payment_instrument            billing_name  \\\n",
       "0      712-36182   American Express       Fake Robert Frank   \n",
       "1      470-21851      VISA 19 digit       Fake Stephen Cook   \n",
       "2      226-28413      VISA 16 digit  Fake Stephanie Miranda   \n",
       "3       794-9614      VISA 13 digit     Fake Joseph Dickson   \n",
       "4       588-3889       JCB 16 digit       Fake Eric Jenkins   \n",
       "\n",
       "                billing_address_1          billing_city  \\\n",
       "0  0722 Taylor Junctions Fake St.            West Darin   \n",
       "1     37873 Mullins Cape Fake St.             Tylerview   \n",
       "2    67188 Lauren Meadow Fake St.  Port Virginiachester   \n",
       "3          598 Paul Mews Fake St.          Thompsonberg   \n",
       "4    9445 Mcdonald Wells Fake St.      East Samuelmouth   \n",
       "\n",
       "               shipping_address_1      shipping_city shipping_state  \\\n",
       "0        606 Melissa Dam Fake St.         East Amber             MA   \n",
       "1  39084 Patterson Trail Fake St.       Joneschester             MT   \n",
       "2       414 Maureen Pike Fake St.     New Nicoletown             OK   \n",
       "3         259 Mary Inlet Fake St.  West Michaelmouth             PA   \n",
       "4    4343 Kristina Court Fake St.     South Maryfort             OK   \n",
       "\n",
       "   shipping_postal  fraud_label  \n",
       "0          44986.0            1  \n",
       "1          99883.0            0  \n",
       "2          12973.0            0  \n",
       "3          42842.0            0  \n",
       "4          12751.0            0  "
      ]
     },
     "execution_count": 67,
     "metadata": {},
     "output_type": "execute_result"
    }
   ],
   "source": [
    "df.head(5)"
   ]
  },
  {
   "cell_type": "markdown",
   "metadata": {},
   "source": [
    "To start with , let's just try the training data to see the outcome !"
   ]
  },
  {
   "cell_type": "code",
   "execution_count": 14,
   "metadata": {},
   "outputs": [
    {
     "name": "stdout",
     "output_type": "stream",
     "text": [
      "{\n",
      "  \"outcomes\": [\n",
      "    \"verify_fraudulent_customer\"\n",
      "  ],\n",
      "  \"modelScores\": [\n",
      "    {\n",
      "      \"modelVersion\": {\n",
      "        \"modelId\": \"aws_frauddetector_demo\",\n",
      "        \"modelType\": \"ONLINE_FRAUD_INSIGHTS\",\n",
      "        \"modelVersionNumber\": \"1.0\"\n",
      "      },\n",
      "      \"scores\": {\n",
      "        \"aws_frauddetector_demo_insightscore\": 892.0\n",
      "      }\n",
      "    }\n",
      "  ],\n",
      "  \"ResponseMetadata\": {\n",
      "    \"RequestId\": \"167af50c-c286-449b-ba2a-0783c8a8e0f5\",\n",
      "    \"HTTPStatusCode\": 200,\n",
      "    \"HTTPHeaders\": {\n",
      "      \"content-type\": \"application/x-amz-json-1.1\",\n",
      "      \"date\": \"Tue, 07 Jan 2020 04:47:48 GMT\",\n",
      "      \"x-amzn-requestid\": \"167af50c-c286-449b-ba2a-0783c8a8e0f5\",\n",
      "      \"content-length\": \"231\",\n",
      "      \"connection\": \"keep-alive\"\n",
      "    },\n",
      "    \"RetryAttempts\": 0\n",
      "  }\n",
      "}\n"
     ]
    }
   ],
   "source": [
    "response = client.get_prediction(\n",
    "  detectorId=_detectorId,\n",
    "    detectorVersionId='2.0',\n",
    "    eventId = \"b453a710-fcec-4c7d-9ce4-2ef2daccd615\",\n",
    "    eventAttributes =  {\"billing_name\":\"null\",\n",
    "         \"billing_address_1\":\"null\",\n",
    "         \"billing_city\":\"null\",\n",
    "         \"shipping_address_1\":\"null\",\n",
    "         \"shipping_city\":\"null\",\n",
    "         \"shipping_state\":\"null\",\n",
    "         \"shipping_postal\":\"null\",\n",
    "         \"order_amt\":\"585.05\",\n",
    "         \"ip_address\":\"192.3.33.20\",\n",
    "         \"email_address\":\"null\",\n",
    "         \"user_agent\":\"null\",\n",
    "         \"avs_code\":\"K\",\n",
    "         \"phone_number\":\"null\",\n",
    "         \"billing_state\":\"null\",\n",
    "         \"billing_postal\":\"null\",\n",
    "         \"event_timestamp\":\"12/20/2018 20:03\",\n",
    "         \"transaction_id\":\"712-36182\",\n",
    "         \"payment_instrument\":\"null\"}\n",
    ")\n",
    "\n",
    "print(json.dumps(response, indent=2))\n"
   ]
  },
  {
   "cell_type": "code",
   "execution_count": 18,
   "metadata": {},
   "outputs": [
    {
     "name": "stdout",
     "output_type": "stream",
     "text": [
      "{\n",
      "  \"outcomes\": [\n",
      "    \"approve_customer\"\n",
      "  ],\n",
      "  \"modelScores\": [\n",
      "    {\n",
      "      \"modelVersion\": {\n",
      "        \"modelId\": \"aws_frauddetector_demo\",\n",
      "        \"modelType\": \"ONLINE_FRAUD_INSIGHTS\",\n",
      "        \"modelVersionNumber\": \"1.0\"\n",
      "      },\n",
      "      \"scores\": {\n",
      "        \"aws_frauddetector_demo_insightscore\": 13.0\n",
      "      }\n",
      "    }\n",
      "  ],\n",
      "  \"ResponseMetadata\": {\n",
      "    \"RequestId\": \"bc421915-ba05-4d03-861f-9dc5142c10c6\",\n",
      "    \"HTTPStatusCode\": 200,\n",
      "    \"HTTPHeaders\": {\n",
      "      \"content-type\": \"application/x-amz-json-1.1\",\n",
      "      \"date\": \"Tue, 07 Jan 2020 04:52:36 GMT\",\n",
      "      \"x-amzn-requestid\": \"bc421915-ba05-4d03-861f-9dc5142c10c6\",\n",
      "      \"content-length\": \"220\",\n",
      "      \"connection\": \"keep-alive\"\n",
      "    },\n",
      "    \"RetryAttempts\": 0\n",
      "  }\n",
      "}\n"
     ]
    }
   ],
   "source": [
    "response = client.get_prediction(\n",
    "  detectorId=_detectorId,\n",
    "    detectorVersionId='2.0',\n",
    "    eventId = \"b453a710-fcec-4c7d-9ce4-2ef2daccd614\",\n",
    "    eventAttributes =  {\"billing_name\":\"null\",\n",
    "         \"billing_address_1\":\"39084 Patterson Trail Fake St.\",\n",
    "         \"billing_city\":\"MT\",\n",
    "         \"shipping_address_1\":\"39084 Patterson Trail Fake St.\",\n",
    "         \"shipping_city\":\"Joneschester\",\n",
    "         \"shipping_state\":\"MT\",\n",
    "         \"shipping_postal\":\"null\",\n",
    "         \"order_amt\":\"396.81\",\n",
    "         \"ip_address\":\"198.51.62.181\",\n",
    "         \"email_address\":\"fake_lisafoley@example.org\",\n",
    "         \"user_agent\":\"Mozilla/5.0 (Windows; U; Windows NT 6.2) Apple\",\n",
    "         \"avs_code\":\"O\",\n",
    "         \"phone_number\":\"(555)919 - 8510\",\n",
    "         \"billing_state\":\"KY\",\n",
    "         \"billing_postal\":\"91323.0\",\n",
    "         \"event_timestamp\":\"3/14/2019 10:55\",\n",
    "         \"transaction_id\":\"470-21851\",\n",
    "         \"payment_instrument\":\"VISA 19 digit\"}\n",
    ")\n",
    "print(json.dumps(response, indent=2))"
   ]
  },
  {
   "cell_type": "markdown",
   "metadata": {},
   "source": [
    "Let us also test with new data , assuming this to be from a live stream , we get the following prediction !"
   ]
  },
  {
   "cell_type": "code",
   "execution_count": 17,
   "metadata": {},
   "outputs": [
    {
     "name": "stdout",
     "output_type": "stream",
     "text": [
      "{\n",
      "  \"outcomes\": [\n",
      "    \"verify_fraudulent_customer\"\n",
      "  ],\n",
      "  \"modelScores\": [\n",
      "    {\n",
      "      \"modelVersion\": {\n",
      "        \"modelId\": \"aws_frauddetector_demo\",\n",
      "        \"modelType\": \"ONLINE_FRAUD_INSIGHTS\",\n",
      "        \"modelVersionNumber\": \"1.0\"\n",
      "      },\n",
      "      \"scores\": {\n",
      "        \"aws_frauddetector_demo_insightscore\": 999.0\n",
      "      }\n",
      "    }\n",
      "  ],\n",
      "  \"ResponseMetadata\": {\n",
      "    \"RequestId\": \"988b2e86-51e5-441c-84b0-08dcda336dbb\",\n",
      "    \"HTTPStatusCode\": 200,\n",
      "    \"HTTPHeaders\": {\n",
      "      \"content-type\": \"application/x-amz-json-1.1\",\n",
      "      \"date\": \"Tue, 07 Jan 2020 04:49:51 GMT\",\n",
      "      \"x-amzn-requestid\": \"988b2e86-51e5-441c-84b0-08dcda336dbb\",\n",
      "      \"content-length\": \"231\",\n",
      "      \"connection\": \"keep-alive\"\n",
      "    },\n",
      "    \"RetryAttempts\": 0\n",
      "  }\n",
      "}\n"
     ]
    }
   ],
   "source": [
    "response = client.get_prediction(\n",
    "  detectorId=_detectorId,\n",
    "    detectorVersionId='2.0',\n",
    "    eventId = \"b453a710-fcec-4c7d-9ce4-2ef2daccd619\",\n",
    "    eventAttributes =  {\"billing_name\":\"null\",\n",
    "         \"billing_address_1\":\"null\",\n",
    "         \"billing_city\":\"null\",\n",
    "         \"shipping_address_1\":\"null\",\n",
    "         \"shipping_city\":\"null\",\n",
    "         \"shipping_state\":\"null\",\n",
    "         \"shipping_postal\":\"null\",\n",
    "         \"order_amt\":\"100\",\n",
    "         \"ip_address\":\"192.168.1.1\",\n",
    "         \"email_address\":\"null\",\n",
    "         \"user_agent\":\"null\",\n",
    "         \"avs_code\":\"K\",\n",
    "         \"phone_number\":\"null\",\n",
    "         \"billing_state\":\"null\",\n",
    "         \"billing_postal\":\"null\",\n",
    "         \"event_timestamp\":\"null\",\n",
    "         \"transaction_id\":\"2342342\",\n",
    "         \"payment_instrument\":\"null\"}\n",
    ")\n",
    "\n",
    "print(json.dumps(response, indent=2))"
   ]
  },
  {
   "cell_type": "markdown",
   "metadata": {},
   "source": [
    "Amazon Fraud Detector returns the fraud prediction outcome corresponding to the first rule (that is, the highest priority) that matched (that is, that evaluated to true). If no rules matched, Amazon Fraud Detector returns NO MATCH. Amazon Fraud Detector also returns the model score for any models added to your detector.\n",
    "\n",
    "At this point, your model and associated detector logic are ready to evaluate online activities for fraud in real-time using the Amazon Fraud Detector GetPrediction API."
   ]
  },
  {
   "cell_type": "markdown",
   "metadata": {},
   "source": [
    "There we go ! Now that i am done the 'Hello World' of Amazon Fraud Detector ,time to play around with different datasets to see the outocme."
   ]
  },
  {
   "cell_type": "code",
   "execution_count": null,
   "metadata": {},
   "outputs": [],
   "source": []
  }
 ],
 "metadata": {
  "kernelspec": {
   "display_name": "conda_tensorflow_p36",
   "language": "python",
   "name": "conda_tensorflow_p36"
  },
  "language_info": {
   "codemirror_mode": {
    "name": "ipython",
    "version": 3
   },
   "file_extension": ".py",
   "mimetype": "text/x-python",
   "name": "python",
   "nbconvert_exporter": "python",
   "pygments_lexer": "ipython3",
   "version": "3.6.5"
  }
 },
 "nbformat": 4,
 "nbformat_minor": 2
}
